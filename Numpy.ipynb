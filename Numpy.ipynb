{
  "nbformat": 4,
  "nbformat_minor": 0,
  "metadata": {
    "colab": {
      "name": "Numpy.ipynb",
      "provenance": [],
      "authorship_tag": "ABX9TyMj+oAozEbVRtv6Opw51LCm",
      "include_colab_link": true
    },
    "kernelspec": {
      "name": "python3",
      "display_name": "Python 3"
    },
    "language_info": {
      "name": "python"
    }
  },
  "cells": [
    {
      "cell_type": "markdown",
      "metadata": {
        "id": "view-in-github",
        "colab_type": "text"
      },
      "source": [
        "<a href=\"https://colab.research.google.com/github/Meiyi-Wu/blooket-hack/blob/main/Numpy.ipynb\" target=\"_parent\"><img src=\"https://colab.research.google.com/assets/colab-badge.svg\" alt=\"Open In Colab\"/></a>"
      ]
    },
    {
      "cell_type": "code",
      "execution_count": null,
      "metadata": {
        "colab": {
          "base_uri": "https://localhost:8080/"
        },
        "id": "uLHV3CxqzVgn",
        "outputId": "e0d62d32-dd21-4124-90ac-1594f831524e"
      },
      "outputs": [
        {
          "output_type": "stream",
          "name": "stdout",
          "text": [
            "[[['NYC' 'LA' 'Miami' 'Houston']\n",
            "  ['NY' 'CA' 'FL' 'TX']\n",
            "  ['100' '200' '50' '5']]]\n"
          ]
        },
        {
          "output_type": "execute_result",
          "data": {
            "text/plain": [
              "3"
            ]
          },
          "metadata": {},
          "execution_count": 12
        }
      ],
      "source": [
        "import numpy as np \n",
        "np_city = np.array([\"NYC\",\"LA\",\"Miami\",\"Houston\"])\n",
        "np_city_state = np.array([[[\"NYC\",\"LA\",\"Miami\",\"Houston\"],[\"NY\",\"CA\",\"FL\",\"TX\"],[100,200,50,5]]])\n",
        "\n",
        "print(np_city_state)\n",
        "np_city_state.ndim\n"
      ]
    },
    {
      "cell_type": "code",
      "source": [
        "trial_1=[10,15,17,26]\n",
        "trial_2=[2]\n",
        "np_trial_1=np.array(trial_1)\n",
        "np_trial_2=np.array(trial_2)\n",
        "np_total =np_trial_1/np_trial_2\n",
        "np_total\n",
        "\n",
        "all = np.array([[10,15,17,26],[12,11,21,24]])\n",
        "all\n",
        "\n",
        "#first_trial = all[0]\n",
        "#second_trial = all[1]\n",
        "#first_element = all[0,1]\n",
        "#first_element\n",
        "\n"
      ],
      "metadata": {
        "colab": {
          "base_uri": "https://localhost:8080/"
        },
        "id": "NC5oSe7X_GJR",
        "outputId": "494b908c-be4c-491a-eb01-8c1028cba6cb"
      },
      "execution_count": null,
      "outputs": [
        {
          "output_type": "execute_result",
          "data": {
            "text/plain": [
              "array([[10, 15, 17, 26],\n",
              "       [12, 11, 21, 24]])"
            ]
          },
          "metadata": {},
          "execution_count": 27
        }
      ]
    },
    {
      "cell_type": "code",
      "source": [
        "trial_1=[10,15,17,26]\n",
        "trial_2=[2]\n",
        "np_trial_1=np.array(trial_1)\n",
        "np_trial_2=np.array(trial_2)\n",
        "np_total =np_trial_1/np_trial_2\n",
        "np_total\n",
        "\n",
        "all = np.array([[10,15,17,26],[12,11,21,24]])\n",
        "all[1,0]\n",
        "all[1,3]\n",
        "first_trial = all[0]\n",
        "second_trial = all[1]\n",
        "\n",
        "print(second_trial[1])\n",
        "\n",
        "\n",
        "all[1,1]"
      ],
      "metadata": {
        "colab": {
          "base_uri": "https://localhost:8080/"
        },
        "id": "1IeRDroA_GNY",
        "outputId": "ced9c145-7c36-41c2-8455-0308fc6b286b"
      },
      "execution_count": null,
      "outputs": [
        {
          "output_type": "stream",
          "name": "stdout",
          "text": [
            "11\n"
          ]
        },
        {
          "output_type": "execute_result",
          "data": {
            "text/plain": [
              "11"
            ]
          },
          "metadata": {},
          "execution_count": 37
        }
      ]
    },
    {
      "cell_type": "code",
      "source": [
        "test_scores = np.array([[83,71,57,63],[54,68,81,45]])\n",
        "pass_scores = test_scores >60\n",
        "print(pass_score)"
      ],
      "metadata": {
        "colab": {
          "base_uri": "https://localhost:8080/"
        },
        "id": "8kfIpImP_Gmb",
        "outputId": "1f66ada0-d229-42cc-c143-a5b9e9cbc564"
      },
      "execution_count": null,
      "outputs": [
        {
          "output_type": "stream",
          "name": "stdout",
          "text": [
            "[[ True  True False  True]\n",
            " [False  True  True False]]\n"
          ]
        }
      ]
    },
    {
      "cell_type": "code",
      "source": [
        "test_scores= np.array([[83,71,57,63], [54,68,81,45]])\n",
        "\n",
        "pass_score = test_scores > 60\n",
        "\n",
        "array_pass = test_scores[pass_score]\n",
        "\n",
        "print(sorted(array_pass))"
      ],
      "metadata": {
        "colab": {
          "base_uri": "https://localhost:8080/"
        },
        "id": "KaqjkEtC_G0J",
        "outputId": "cb48f7e4-343b-47fb-a6d7-547a5164afae"
      },
      "execution_count": null,
      "outputs": [
        {
          "output_type": "stream",
          "name": "stdout",
          "text": [
            "[63, 68, 71, 81, 83]\n"
          ]
        }
      ]
    },
    {
      "cell_type": "markdown",
      "source": [
        ""
      ],
      "metadata": {
        "id": "_gVaZkQM_HMG"
      }
    },
    {
      "cell_type": "code",
      "source": [
        "NYC_Borough = np.array([\"manhattan\", \"Bronx\", \"Brooklyn\", \"Queens\", \"Staten Island\"])\n",
        "NYC_Borough\n",
        "\n",
        "Boroughs_In_NYC = NYC_Borough\n",
        "Boroughs_In_NYC in NYC_Borough"
      ],
      "metadata": {
        "colab": {
          "base_uri": "https://localhost:8080/"
        },
        "id": "VyqKW3D9_Irz",
        "outputId": "1883dcec-3206-4823-e5f8-9eed3ef22c13"
      },
      "execution_count": null,
      "outputs": [
        {
          "output_type": "execute_result",
          "data": {
            "text/plain": [
              "True"
            ]
          },
          "metadata": {},
          "execution_count": 51
        }
      ]
    },
    {
      "cell_type": "code",
      "source": [
        "Boroughs_In_NYC\n",
        "view_Boroughs_In_NYC = Boroughs_In_NYC.view()\n",
        "\n",
        "view_Boroughs_In_NYC[4] = 'Central Park'\n",
        "print(view_Boroughs_In_NYC)\n",
        "print(Boroughs_In_NYC)"
      ],
      "metadata": {
        "colab": {
          "base_uri": "https://localhost:8080/"
        },
        "id": "xi2l5VYR_I_X",
        "outputId": "084740b0-bbe7-4a08-c41c-5abb4be60cc0"
      },
      "execution_count": null,
      "outputs": [
        {
          "output_type": "stream",
          "name": "stdout",
          "text": [
            "['manhattan' 'Bronx' 'Brooklyn' 'Queens' 'Central Park']\n",
            "['manhattan' 'Bronx' 'Brooklyn' 'Queens' 'Central Park']\n"
          ]
        }
      ]
    },
    {
      "cell_type": "code",
      "source": [
        "copy_of_Boroughs_In_NYC = NYC_Borough.copy()\n",
        "copy_of_Boroughs_In_NYC\n",
        "NYC_Borough\n",
        "\n",
        "copy_of_Boroughs_In_NYC[4] = 'Staten Island'\n",
        "copy_of_Boroughs_In_NYC\n",
        "NYC_Borough"
      ],
      "metadata": {
        "colab": {
          "base_uri": "https://localhost:8080/"
        },
        "id": "kVy5_56e_J2B",
        "outputId": "5cc24779-911c-4c4d-c9dd-bbc6159a23dc"
      },
      "execution_count": null,
      "outputs": [
        {
          "output_type": "execute_result",
          "data": {
            "text/plain": [
              "array(['manhattan', 'Bronx', 'Brooklyn', 'Queens', 'Central Park'],\n",
              "      dtype='<U13')"
            ]
          },
          "metadata": {},
          "execution_count": 89
        }
      ]
    },
    {
      "cell_type": "code",
      "source": [
        "np_sqrt = np.sqrt([2,4,9,16])\n",
        "np_sqrt\n",
        "from numpy import pi\n",
        "np.sin(pi/2)\n",
        "np.cos(pi)\n",
        "np.floor([1.5,2.3,6.7])\n",
        "\n",
        "np.exp([0,1,5])"
      ],
      "metadata": {
        "colab": {
          "base_uri": "https://localhost:8080/"
        },
        "id": "Mty8Ialv_DyI",
        "outputId": "6fa840ac-0f75-4082-a774-4deeb7e4ab4e"
      },
      "execution_count": null,
      "outputs": [
        {
          "output_type": "execute_result",
          "data": {
            "text/plain": [
              "array([  1.        ,   2.71828183, 148.4131591 ])"
            ]
          },
          "metadata": {},
          "execution_count": 92
        }
      ]
    },
    {
      "cell_type": "code",
      "source": [
        "test_scores = np.array([[83,71,57,63],[54,68,81,45]])\n",
        "print(test_scores)\n",
        "print(test_scores.transpose())"
      ],
      "metadata": {
        "colab": {
          "base_uri": "https://localhost:8080/"
        },
        "id": "cJ1IlNvB_EZt",
        "outputId": "890945fb-a99e-4261-d8ae-226726d06322"
      },
      "execution_count": null,
      "outputs": [
        {
          "output_type": "stream",
          "name": "stdout",
          "text": [
            "[[83 71 57 63]\n",
            " [54 68 81 45]]\n",
            "[[83 54]\n",
            " [71 68]\n",
            " [57 81]\n",
            " [63 45]]\n"
          ]
        }
      ]
    },
    {
      "cell_type": "code",
      "source": [
        "10^-1"
      ],
      "metadata": {
        "colab": {
          "base_uri": "https://localhost:8080/"
        },
        "id": "YMsxeup8_FHe",
        "outputId": "d6ab20f9-8134-471a-d01f-d6b3f01682f1"
      },
      "execution_count": null,
      "outputs": [
        {
          "output_type": "execute_result",
          "data": {
            "text/plain": [
              "-11"
            ]
          },
          "metadata": {},
          "execution_count": 106
        }
      ]
    }
  ]
}